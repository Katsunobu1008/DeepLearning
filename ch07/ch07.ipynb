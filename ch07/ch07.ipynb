{
 "cells": [
  {
   "cell_type": "markdown",
   "metadata": {},
   "source": [
    "# 畳み込みニューラルネットワークの実装"
   ]
  },
  {
   "cell_type": "code",
   "execution_count": 8,
   "metadata": {},
   "outputs": [
    {
     "name": "stdout",
     "output_type": "stream",
     "text": [
      "(9, 75)\n",
      "(90, 75)\n",
      "(1600, 75)\n"
     ]
    }
   ],
   "source": [
    "import numpy as np\n",
    "import matplotlib.pyplot as plt\n",
    "import sys,os\n",
    "sys.path.append(os.pardir)\n",
    "from common.util import im2col\n",
    "\n",
    "x1 = np.random.rand(1,3,7,7)\n",
    "col1 = im2col(x1,5,5,stride = 1,pad=0)\n",
    "print(col1.shape)\n",
    "\n",
    "x2 = np.random.rand(10,3,7,7)\n",
    "col2 = im2col(x2,5,5,stride = 1,pad=0)\n",
    "print(col2.shape)\n",
    "\n",
    "x3 = np.random.rand(100,3,8,8)\n",
    "col3 = im2col(x3,5,5,stride=1,pad=0)\n",
    "print(col3.shape)"
   ]
  },
  {
   "cell_type": "code",
   "execution_count": null,
   "metadata": {},
   "outputs": [],
   "source": [
    "import numpy as np\n",
    "import matplotlib.pyplot as plt\n",
    "import sys, os\n",
    "sys.path.append(os.pardir)  # 親ディレクトリのモジュールを利用可能にするための設定\n",
    "from common.util import im2col  # im2colをインポート（畳み込みを効率化する関数）\n",
    "\n",
    "# Convolution（畳み込み層）のクラス定義\n",
    "class convolution:\n",
    "    def __init__(self, w, b, stride=1, pad=0):\n",
    "        \"\"\"\n",
    "        コンストラクタ（初期化）\n",
    "        w: 重み（フィルタ）→ 形状は (フィルタ数, 入力チャネル数, フィルタ高さ, フィルタ幅)\n",
    "        b: バイアス → 形状は (フィルタ数,)\n",
    "        stride: ストライド（フィルタをスライドする間隔）\n",
    "        pad: パディング（入力データの周囲に付加するゼロの数）\n",
    "        \"\"\"\n",
    "        self.w = w  # 重み（フィルタ）\n",
    "        self.b = b  # バイアス\n",
    "        self.stride = stride  # ストライド\n",
    "        self.pad = pad  # パディング\n",
    "\n",
    "    def forward(self, x):\n",
    "        \"\"\"\n",
    "        順伝播（Forward）\n",
    "        x: 入力データ → 形状は (バッチ数, 入力チャネル数, 高さ, 幅)\n",
    "        \"\"\"\n",
    "        # 畳み込み後の出力の形状を計算\n",
    "        FN, C, FH, FW = self.w.shape  # フィルタの形状（フィルタ数、チャネル数、高さ、幅）\n",
    "        N, C, H, W = x.shape  # 入力データの形状（バッチ数、チャネル数、高さ、幅）\n",
    "        out_h = int(1 + (H + 2 * self.pad - FH) / self.stride)  # 出力の高さ\n",
    "        out_w = int(1 + (W + 2 * self.pad - FW) / self.stride)  # 出力の幅\n",
    "\n",
    "        # 入力データをim2colで展開（パッチ化）\n",
    "        col = im2col(x, FH, FW, self.stride, self.pad)\n",
    "        # フィルタをim2colに対応する形状に変換\n",
    "        col_w = self.w.reshape(FN, -1).T  # フィルタを2次元配列に変換\n",
    "\n",
    "        # 行列積を計算（展開された入力データとフィルタ）\n",
    "        out = np.dot(col, col_w) + self.b  # 畳み込み演算\n",
    "\n",
    "        # 出力の形状を元に戻す（reshapeしてtranspose）\n",
    "        out = out.reshape(N, out_h, out_w, -1).transpose(0, 3, 1, 2)  # (バッチ数, フィルタ数, 出力高さ, 出力幅)\n",
    "        return out\n",
    "\n",
    "class Pooling:\n",
    "    def __init__(self,pool_h,pool_w,stride=1,pad=0):\n",
    "        self.pool_h=pool_h\n",
    "        self.pool_w = pool_w\n",
    "        self.stride = stride\n",
    "        self.pad = pad\n",
    "    def forward(self,x):\n",
    "        N,C,H,W=x.shape\n",
    "        out_h=int(1+(H-self.pool_h)/self.stride)\n",
    "        out_w=int(1+(W-self.pool_w)/self.stride)\n",
    "        col = im2col(x,self.pool_h,self.pool_w,self.stride,self.pad)\n",
    "        col = col.reshape(-1,self.pool_h*self.pool_w)\n",
    "\n",
    "        out = np.max(col,axis=1)\n",
    "        out = out.reshape(N,out_h,out_w,C).transpose(0,3,1,2)\n",
    "        print(out.shape)\n",
    "        return out\n"
   ]
  },
  {
   "cell_type": "code",
   "execution_count": null,
   "metadata": {},
   "outputs": [],
   "source": []
  },
  {
   "cell_type": "code",
   "execution_count": null,
   "metadata": {},
   "outputs": [],
   "source": []
  },
  {
   "cell_type": "code",
   "execution_count": null,
   "metadata": {},
   "outputs": [],
   "source": []
  },
  {
   "cell_type": "code",
   "execution_count": null,
   "metadata": {},
   "outputs": [],
   "source": []
  },
  {
   "cell_type": "code",
   "execution_count": null,
   "metadata": {},
   "outputs": [],
   "source": []
  },
  {
   "cell_type": "code",
   "execution_count": null,
   "metadata": {},
   "outputs": [],
   "source": []
  }
 ],
 "metadata": {
  "kernelspec": {
   "display_name": "base",
   "language": "python",
   "name": "python3"
  },
  "language_info": {
   "codemirror_mode": {
    "name": "ipython",
    "version": 3
   },
   "file_extension": ".py",
   "mimetype": "text/x-python",
   "name": "python",
   "nbconvert_exporter": "python",
   "pygments_lexer": "ipython3",
   "version": "3.9.7"
  }
 },
 "nbformat": 4,
 "nbformat_minor": 2
}
