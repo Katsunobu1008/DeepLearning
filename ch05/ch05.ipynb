{
 "cells": [
  {
   "cell_type": "markdown",
   "metadata": {},
   "source": [
    "# 第5章 誤差逆伝播法の学習"
   ]
  },
  {
   "cell_type": "code",
   "execution_count": 1,
   "metadata": {},
   "outputs": [],
   "source": [
    "import numpy as np\n",
    "import matplotlib.pyplot as plt\n",
    "import pandas as pd\n",
    "import sys,os #パスを通す\n",
    "sys.path.append(os.pardir) #親ディレクトリのファイルをインポートするための設定\n",
    "from dataset.mnist import load_mnist #MNISTデータセットを読み込む\n",
    "from common.layers import * #ニューラルネットワークのレイヤーをまとめたもの\n",
    "from common.gradient import numerical_gradient #勾配計算\n",
    "from collections import OrderedDict #辞書型の順番を保持する\n",
    "\n",
    "class TwoLayerNet:\n",
    "  def __init__(self,input_size,hidden_size,output_size,weight_init_std=0.01):\n",
    "    #重みの初期化\n",
    "    self.params = {}\n",
    "    self.params['W1'] = weight_init_std * np.random.randn(input_size,hidden_size)\n",
    "    self.params['b1'] = np.zeros(hidden_size)\n",
    "    self.params['W2'] = weight_init_std * np.random.randn(hidden_size,output_size)\n",
    "    self.params['b2'] = np.zeros(output_size)\n",
    "    #レイヤの生成\n",
    "    self.layers = OrderedDict()\n",
    "    self.layers[\"Affine1\"] = Affine(self.params[\"W1\"],self.params[\"b1\"])\n",
    "    self.layes[\"Relu1\"] = Relu()\n",
    "    self.layers[\"Affine2\"] = Affine(self.params[\"W2\"],self.params[\"b2\"])\n",
    "    self.lastLayer = SoftmaxWithLoss()\n",
    "\n",
    "def predict(self,x):\n",
    "  for layer in self.layers.values():\n",
    "    x = layer.forward(x)\n",
    "    return x\n",
    "\n",
    "def loss(self,x,t):\n",
    "  y = self.predict(x)\n",
    "  return self.lastLayer.forward(y,t)\n",
    "\n",
    "def accuracy(self,x,t):\n",
    "  y = self.predict(x)\n",
    "  y = np.argmax(y,axis=1)\n",
    "  if t.ndim !=1:t = np.argmax(t,axis=1)\n",
    "  accuracy = np.sum(y == t) / float(x.shape[0])\n",
    "  return accuracy\n",
    "\n",
    "def numerical_gradient(self,x,t):\n",
    "  loss_W = lambda W: self.loss(x,t)\n",
    "  grads = {}\n",
    "  grads[\"W1\"] = numerical_gradient(loss_W,self.parms[\"W1\"])\n",
    "  grads[\"b1\"] = numerical_gradient(loss_W,self.parms[\"b1\"])\n",
    "  grads[\"W2\"] = numerical_gradient(loss_W,self.parms[\"W2\"])\n",
    "  grads[\"b2\"] = numerical_gradient(loss_W,self.parms[\"b2\"])\n",
    "  return grads\n",
    "\n",
    "def gradient(self,x,t):\n",
    "  #forward\n",
    "  self.loss(x,t)\n",
    "  #backward\n",
    "  dout = 1\n",
    "  dout = self.lastLayer.backward(dout)\n",
    "  layers = list(self.layers.values())\n",
    "  layers = list(self.layers.values())\n",
    "  layers.reverse()\n",
    "  for layer in layers:\n",
    "    dout = layer.backward(dout)\n",
    "\n",
    "  grads = {}\n",
    "  grads[\"W1\"] = self.layers[\"Affine1\"].dW\n",
    "  grads[\"b1\"] = self.layers[\"Affine1\"].db\n",
    "  grads[\"W2\"] = self.layers[\"Affine2\"].dW\n",
    "  grads[\"b2\"] = self.layers[\"Affine2\"].db\n",
    "  return grads\n"
   ]
  },
  {
   "cell_type": "code",
   "execution_count": null,
   "metadata": {},
   "outputs": [],
   "source": []
  },
  {
   "cell_type": "code",
   "execution_count": null,
   "metadata": {},
   "outputs": [],
   "source": []
  },
  {
   "cell_type": "code",
   "execution_count": null,
   "metadata": {},
   "outputs": [],
   "source": []
  },
  {
   "cell_type": "code",
   "execution_count": null,
   "metadata": {},
   "outputs": [],
   "source": []
  },
  {
   "cell_type": "code",
   "execution_count": null,
   "metadata": {},
   "outputs": [],
   "source": []
  },
  {
   "cell_type": "code",
   "execution_count": null,
   "metadata": {},
   "outputs": [],
   "source": []
  },
  {
   "cell_type": "code",
   "execution_count": null,
   "metadata": {},
   "outputs": [],
   "source": []
  }
 ],
 "metadata": {
  "kernelspec": {
   "display_name": "Python 3",
   "language": "python",
   "name": "python3"
  },
  "language_info": {
   "codemirror_mode": {
    "name": "ipython",
    "version": 3
   },
   "file_extension": ".py",
   "mimetype": "text/x-python",
   "name": "python",
   "nbconvert_exporter": "python",
   "pygments_lexer": "ipython3",
   "version": "3.9.7"
  }
 },
 "nbformat": 4,
 "nbformat_minor": 2
}
